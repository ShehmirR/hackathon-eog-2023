{
 "cells": [
  {
   "cell_type": "code",
   "execution_count": 3,
   "id": "164a0817",
   "metadata": {
    "scrolled": true
   },
   "outputs": [],
   "source": [
    "import pandas as pd\n",
    "import numpy as np"
   ]
  },
  {
   "cell_type": "code",
   "execution_count": 4,
   "id": "5cd7373a",
   "metadata": {},
   "outputs": [
    {
     "output_type": "execute_result",
     "data": {
      "text/plain": "    DRILL_BIT_NAME    CPR  CPF   CPH\n0   Buzz Drilldrin   5000  1.5     0\n1         AstroBit   3000  1.0  1500\n2           Apollo   1000  4.0  2500\n3  ChallengDriller  10000  0.0     0",
      "text/html": "<div>\n<style scoped>\n    .dataframe tbody tr th:only-of-type {\n        vertical-align: middle;\n    }\n\n    .dataframe tbody tr th {\n        vertical-align: top;\n    }\n\n    .dataframe thead th {\n        text-align: right;\n    }\n</style>\n<table border=\"1\" class=\"dataframe\">\n  <thead>\n    <tr style=\"text-align: right;\">\n      <th></th>\n      <th>DRILL_BIT_NAME</th>\n      <th>CPR</th>\n      <th>CPF</th>\n      <th>CPH</th>\n    </tr>\n  </thead>\n  <tbody>\n    <tr>\n      <th>0</th>\n      <td>Buzz Drilldrin</td>\n      <td>5000</td>\n      <td>1.5</td>\n      <td>0</td>\n    </tr>\n    <tr>\n      <th>1</th>\n      <td>AstroBit</td>\n      <td>3000</td>\n      <td>1.0</td>\n      <td>1500</td>\n    </tr>\n    <tr>\n      <th>2</th>\n      <td>Apollo</td>\n      <td>1000</td>\n      <td>4.0</td>\n      <td>2500</td>\n    </tr>\n    <tr>\n      <th>3</th>\n      <td>ChallengDriller</td>\n      <td>10000</td>\n      <td>0.0</td>\n      <td>0</td>\n    </tr>\n  </tbody>\n</table>\n</div>"
     },
     "metadata": {},
     "execution_count": 4
    }
   ],
   "source": [
    "bits_info = pd.DataFrame({\n",
    "    \"DRILL_BIT_NAME\":[\"Buzz Drilldrin\", \"AstroBit\", \"Apollo\", \"ChallengDriller\"],\n",
    "    \"CPR\": [5000,3000,1000,10000],\n",
    "    \"CPF\": [1.5,1,4,0],\n",
    "    \"CPH\":[0,1500,2500,0]\n",
    "})\n",
    "bits_info"
   ]
  },
  {
   "cell_type": "code",
   "execution_count": 56,
   "id": "c37f6486",
   "metadata": {},
   "outputs": [],
   "source": [
    "csv = pd.read_csv(\"./Cleaned/Asteroid 1 - clean.csv\")\n",
    "numeric_cols = csv.loc[:, csv.columns != 'DRILL_BIT_NAME']\n",
    "numeric_cols.loc[:][numeric_cols < 0] = np.NAN                         \n",
    "numeric_cols[\"DRILL_BIT_NAME\"] = csv[\"DRILL_BIT_NAME\"]\n",
    "data = numeric_cols.dropna()\n"
   ]
  },
  {
   "cell_type": "code",
   "execution_count": 57,
   "id": "44d87155",
   "metadata": {},
   "outputs": [
    {
     "output_type": "execute_result",
     "data": {
      "text/plain": "   DRILL_BIT_ID  DRILL_BIT_NAME  BIT_DEPTH_min  BIT_DEPTH_max  \\\n0             1          Apollo         117.30        9316.52   \n1             2  Buzz Drilldrin        9317.01        9328.54   \n2             3  Buzz Drilldrin        9329.03        9342.52   \n3             4  Buzz Drilldrin        9343.07       10510.51   \n4             5  Buzz Drilldrin       10511.04       15323.00   \n\n   RATE_OF_PENETRATION_mean  total_depth  total_hours   CPR  CPF   CPH  \\\n0                356.296308      9199.22    25.819016  1000  4.0  2500   \n1                118.200000        11.53     0.097547  5000  1.5     0   \n2                117.457143        13.49     0.114850  5000  1.5     0   \n3                110.780891      1167.44    10.538280  5000  1.5     0   \n4                108.802347      4811.96    44.226619  5000  1.5     0   \n\n            cost  \n0  102344.419519  \n1    5017.295000  \n2    5020.235000  \n3    6751.160000  \n4   12217.940000  ",
      "text/html": "<div>\n<style scoped>\n    .dataframe tbody tr th:only-of-type {\n        vertical-align: middle;\n    }\n\n    .dataframe tbody tr th {\n        vertical-align: top;\n    }\n\n    .dataframe thead th {\n        text-align: right;\n    }\n</style>\n<table border=\"1\" class=\"dataframe\">\n  <thead>\n    <tr style=\"text-align: right;\">\n      <th></th>\n      <th>DRILL_BIT_ID</th>\n      <th>DRILL_BIT_NAME</th>\n      <th>BIT_DEPTH_min</th>\n      <th>BIT_DEPTH_max</th>\n      <th>RATE_OF_PENETRATION_mean</th>\n      <th>total_depth</th>\n      <th>total_hours</th>\n      <th>CPR</th>\n      <th>CPF</th>\n      <th>CPH</th>\n      <th>cost</th>\n    </tr>\n  </thead>\n  <tbody>\n    <tr>\n      <th>0</th>\n      <td>1</td>\n      <td>Apollo</td>\n      <td>117.30</td>\n      <td>9316.52</td>\n      <td>356.296308</td>\n      <td>9199.22</td>\n      <td>25.819016</td>\n      <td>1000</td>\n      <td>4.0</td>\n      <td>2500</td>\n      <td>102344.419519</td>\n    </tr>\n    <tr>\n      <th>1</th>\n      <td>2</td>\n      <td>Buzz Drilldrin</td>\n      <td>9317.01</td>\n      <td>9328.54</td>\n      <td>118.200000</td>\n      <td>11.53</td>\n      <td>0.097547</td>\n      <td>5000</td>\n      <td>1.5</td>\n      <td>0</td>\n      <td>5017.295000</td>\n    </tr>\n    <tr>\n      <th>2</th>\n      <td>3</td>\n      <td>Buzz Drilldrin</td>\n      <td>9329.03</td>\n      <td>9342.52</td>\n      <td>117.457143</td>\n      <td>13.49</td>\n      <td>0.114850</td>\n      <td>5000</td>\n      <td>1.5</td>\n      <td>0</td>\n      <td>5020.235000</td>\n    </tr>\n    <tr>\n      <th>3</th>\n      <td>4</td>\n      <td>Buzz Drilldrin</td>\n      <td>9343.07</td>\n      <td>10510.51</td>\n      <td>110.780891</td>\n      <td>1167.44</td>\n      <td>10.538280</td>\n      <td>5000</td>\n      <td>1.5</td>\n      <td>0</td>\n      <td>6751.160000</td>\n    </tr>\n    <tr>\n      <th>4</th>\n      <td>5</td>\n      <td>Buzz Drilldrin</td>\n      <td>10511.04</td>\n      <td>15323.00</td>\n      <td>108.802347</td>\n      <td>4811.96</td>\n      <td>44.226619</td>\n      <td>5000</td>\n      <td>1.5</td>\n      <td>0</td>\n      <td>12217.940000</td>\n    </tr>\n  </tbody>\n</table>\n</div>"
     },
     "metadata": {},
     "execution_count": 57
    }
   ],
   "source": [
    "aggregated = (\n",
    "    data\n",
    "    .groupby(['DRILL_BIT_ID','DRILL_BIT_NAME'])\n",
    "    .agg({'BIT_DEPTH': ['min', 'max'], 'RATE_OF_PENETRATION' : ['mean']})\n",
    "    .pipe(lambda x: x.set_axis(x.columns.map('_'.join), axis=1))\n",
    ")\n",
    "\n",
    "aggregated.reset_index(inplace=True)\n",
    "\n",
    "aggregated[\"total_depth\"] = aggregated[\"BIT_DEPTH_max\"] - aggregated[\"BIT_DEPTH_min\"]\n",
    "aggregated[\"total_hours\"] = aggregated[\"total_depth\"] / aggregated[\"RATE_OF_PENETRATION_mean\"]\n",
    "aggregated = aggregated.merge(bits_info)\n",
    "\n",
    "# Do your computation\n",
    "aggregated[\"cost\"] = aggregated['CPR'] + aggregated[\"total_depth\"] * aggregated['CPF'] + aggregated[\"total_hours\"] * aggregated['CPH']\n",
    "aggregated"
   ]
  },
  {
   "cell_type": "code",
   "execution_count": 47,
   "id": "805bdba5",
   "metadata": {},
   "outputs": [
    {
     "output_type": "execute_result",
     "data": {
      "text/plain": "104312.52190875287"
     },
     "metadata": {},
     "execution_count": 47
    }
   ],
   "source": [
    "aggregated['cost'].sum()"
   ]
  },
  {
   "cell_type": "code",
   "execution_count": null,
   "id": "86910385",
   "metadata": {},
   "outputs": [],
   "source": []
  }
 ],
 "metadata": {
  "kernelspec": {
   "display_name": "Python 3 (ipykernel)",
   "language": "python",
   "name": "python3"
  },
  "language_info": {
   "codemirror_mode": {
    "name": "ipython",
    "version": 3
   },
   "file_extension": ".py",
   "mimetype": "text/x-python",
   "name": "python",
   "nbconvert_exporter": "python",
   "pygments_lexer": "ipython3",
   "version": "3.8.5-final"
  }
 },
 "nbformat": 4,
 "nbformat_minor": 5
}