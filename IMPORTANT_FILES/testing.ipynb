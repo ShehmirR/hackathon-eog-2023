{
 "metadata": {
  "language_info": {
   "codemirror_mode": {
    "name": "ipython",
    "version": 3
   },
   "file_extension": ".py",
   "mimetype": "text/x-python",
   "name": "python",
   "nbconvert_exporter": "python",
   "pygments_lexer": "ipython3",
   "version": "3.8.5-final"
  },
  "orig_nbformat": 2,
  "kernelspec": {
   "name": "python38564bit7e44348db0ee4110b894a233f9932c6c",
   "display_name": "Python 3.8.5 64-bit"
  }
 },
 "nbformat": 4,
 "nbformat_minor": 2,
 "cells": [
  {
   "cell_type": "code",
   "execution_count": 3,
   "metadata": {},
   "outputs": [],
   "source": [
    "import pandas as pd\n",
    "import numpy as np"
   ]
  },
  {
   "cell_type": "code",
   "execution_count": 4,
   "metadata": {},
   "outputs": [
    {
     "output_type": "execute_result",
     "data": {
      "text/plain": "    DRILL_BIT_NAME    CPR  CPF   CPH\n0   Buzz Drilldrin   5000  1.5     0\n1         AstroBit   3000  1.0  1500\n2           Apollo   1000  4.0  2500\n3  ChallengDriller  10000  0.0     0",
      "text/html": "<div>\n<style scoped>\n    .dataframe tbody tr th:only-of-type {\n        vertical-align: middle;\n    }\n\n    .dataframe tbody tr th {\n        vertical-align: top;\n    }\n\n    .dataframe thead th {\n        text-align: right;\n    }\n</style>\n<table border=\"1\" class=\"dataframe\">\n  <thead>\n    <tr style=\"text-align: right;\">\n      <th></th>\n      <th>DRILL_BIT_NAME</th>\n      <th>CPR</th>\n      <th>CPF</th>\n      <th>CPH</th>\n    </tr>\n  </thead>\n  <tbody>\n    <tr>\n      <th>0</th>\n      <td>Buzz Drilldrin</td>\n      <td>5000</td>\n      <td>1.5</td>\n      <td>0</td>\n    </tr>\n    <tr>\n      <th>1</th>\n      <td>AstroBit</td>\n      <td>3000</td>\n      <td>1.0</td>\n      <td>1500</td>\n    </tr>\n    <tr>\n      <th>2</th>\n      <td>Apollo</td>\n      <td>1000</td>\n      <td>4.0</td>\n      <td>2500</td>\n    </tr>\n    <tr>\n      <th>3</th>\n      <td>ChallengDriller</td>\n      <td>10000</td>\n      <td>0.0</td>\n      <td>0</td>\n    </tr>\n  </tbody>\n</table>\n</div>"
     },
     "metadata": {},
     "execution_count": 4
    }
   ],
   "source": [
    "bits_info = pd.DataFrame({\n",
    "    \"DRILL_BIT_NAME\":[\"Buzz Drilldrin\", \"AstroBit\", \"Apollo\", \"ChallengDriller\"],\n",
    "    \"CPR\": [5000,3000,1000,10000],\n",
    "    \"CPF\": [1.5,1,4,0],\n",
    "    \"CPH\":[0,1500,2500,0]\n",
    "})\n",
    "bits_info"
   ]
  },
  {
   "cell_type": "code",
   "execution_count": 10,
   "metadata": {
    "tags": []
   },
   "outputs": [
    {
     "output_type": "stream",
     "name": "stdout",
     "text": "./incrementalCSV/Asteroid1.csv\n./incrementalCSV/Asteroid2.csv\n./incrementalCSV/Asteroid3.csv\n./incrementalCSV/Asteroid4.csv\n./incrementalCSV/Asteroid5.csv\n./incrementalCSV/Asteroid6.csv\n./incrementalCSV/Asteroid7.csv\n./incrementalCSV/Asteroid8.csv\n./incrementalCSV/Asteroid9.csv\n./incrementalCSV/Asteroid10.csv\n./incrementalCSV/Asteroid11.csv\n./incrementalCSV/Asteroid12.csv\n./incrementalCSV/Asteroid13.csv\n./incrementalCSV/Asteroid14.csv\n./incrementalCSV/Asteroid15.csv\n./incrementalCSV/Asteroid16.csv\n./incrementalCSV/Asteroid17.csv\n./incrementalCSV/Asteroid18.csv\n./incrementalCSV/Asteroid19.csv\n./incrementalCSV/Asteroid20.csv\n"
    }
   ],
   "source": [
    "for i in range(1,21):\n",
    "    csv = pd.read_csv(f'./Cleaned/Asteroid {i} - clean.csv')\n",
    "    numeric_cols = csv.loc[:, csv.columns != 'DRILL_BIT_NAME']\n",
    "    numeric_cols.loc[:][numeric_cols < 0] = np.NAN                         \n",
    "    numeric_cols[\"DRILL_BIT_NAME\"] = csv[\"DRILL_BIT_NAME\"]\n",
    "    data = numeric_cols.dropna()\n",
    "\n",
    "    aggregated = (\n",
    "        data\n",
    "    )\n",
    "\n",
    "    aggregated = aggregated.merge(bits_info)\n",
    "\n",
    "    aggregated[\"NEXT_DEPTH\"] = aggregated[\"BIT_DEPTH\"].shift(-1)\n",
    "    aggregated[\"NEXT_RATE\"] = aggregated[\"RATE_OF_PENETRATION\"].shift(-1)\n",
    "    aggregated[\"PREV_ID\"] = aggregated[\"DRILL_BIT_ID\"].shift(1)\n",
    "    aggregated[\"DEPTH_INTERVAL\"] = aggregated[\"NEXT_DEPTH\"] - aggregated[\"BIT_DEPTH\"]\n",
    "\n",
    "\n",
    "    def interval(x):\n",
    "        #print(x[\"DEPTH_INTERVAL\"])\n",
    "        #print(x[\"BIT_DEPTH\"])\n",
    "\n",
    "        if x[\"BIT_DEPTH\"] == x[\"NEXT_DEPTH\"]:\n",
    "            return 0\n",
    "\n",
    "        if x[\"PREV_ID\"] == x[\"DRILL_BIT_ID\"] and (x[\"RATE_OF_PENETRATION\"] / x[\"DEPTH_INTERVAL\"]) != 0:\n",
    "            return pow(x[\"RATE_OF_PENETRATION\"] / x[\"DEPTH_INTERVAL\"], -1) \n",
    "        elif (x[\"RATE_OF_PENETRATION\"] / x[\"DEPTH_INTERVAL\"]) != 0:\n",
    "            return pow(x[\"RATE_OF_PENETRATION\"] / x[\"DEPTH_INTERVAL\"], -1) + (x[\"BIT_DEPTH\"]/6000)\n",
    "        else: \n",
    "            return 0\n",
    "\n",
    "    aggregated[\"TIME_INTERVAL\"] = aggregated.apply(interval, axis=1)\n",
    "\n",
    "    def cpr_add(x):\n",
    "        if x[\"PREV_ID\"] == x[\"DRILL_BIT_ID\"]:\n",
    "            return (x[\"DEPTH_INTERVAL\"] * x['CPF']) + (x[\"TIME_INTERVAL\"] * x['CPH'])\n",
    "        else:\n",
    "            return x['CPR'] + (x[\"DEPTH_INTERVAL\"] * x['CPF']) + (x[\"TIME_INTERVAL\"] * x['CPH'])\n",
    "\n",
    "    aggregated[\"cost\"] = aggregated.apply(cpr_add, axis=1)\n",
    "\n",
    "    path = f'./incrementalCSV/Asteroid{i}.csv'\n",
    "    print(path)\n",
    "    aggregated[['BIT_DEPTH','cost']]"
   ]
  },
  {
   "cell_type": "code",
   "execution_count": 115,
   "metadata": {},
   "outputs": [
    {
     "output_type": "execute_result",
     "data": {
      "text/plain": "504827.69649616774"
     },
     "metadata": {},
     "execution_count": 115
    }
   ],
   "source": [
    "aggregated['cost'].sum()"
   ]
  },
  {
   "cell_type": "code",
   "execution_count": null,
   "metadata": {},
   "outputs": [],
   "source": []
  }
 ]
}