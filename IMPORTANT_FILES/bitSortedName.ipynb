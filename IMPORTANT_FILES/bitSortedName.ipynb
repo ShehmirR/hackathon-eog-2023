{
 "metadata": {
  "language_info": {
   "codemirror_mode": {
    "name": "ipython",
    "version": 3
   },
   "file_extension": ".py",
   "mimetype": "text/x-python",
   "name": "python",
   "nbconvert_exporter": "python",
   "pygments_lexer": "ipython3",
   "version": "3.8.5-final"
  },
  "orig_nbformat": 2,
  "kernelspec": {
   "name": "python38564bit7e44348db0ee4110b894a233f9932c6c",
   "display_name": "Python 3.8.5 64-bit"
  }
 },
 "nbformat": 4,
 "nbformat_minor": 2,
 "cells": [
  {
   "cell_type": "code",
   "execution_count": 2,
   "metadata": {},
   "outputs": [],
   "source": [
    "import pandas as pd\n",
    "import numpy as np"
   ]
  },
  {
   "cell_type": "code",
   "execution_count": 3,
   "metadata": {},
   "outputs": [],
   "source": [
    "bits_info = pd.DataFrame({\n",
    "    \"DRILL_BIT_NAME\":[\"Buzz Drilldrin\", \"AstroBit\", \"Apollo\", \"ChallengDriller\"],\n",
    "    \"CPR\": [5000,3000,1000,10000],\n",
    "    \"CPF\": [1.5,1,4,0],\n",
    "    \"CPH\":[0,1500,2500,0]\n",
    "})"
   ]
  },
  {
   "cell_type": "code",
   "execution_count": 4,
   "metadata": {},
   "outputs": [],
   "source": [
    "csv = pd.read_csv(\"./Cleaned/Master Asteroid File.csv\")\n",
    "numeric_cols = csv.loc[:, csv.columns != 'DRILL_BIT_NAME']\n",
    "numeric_cols.loc[:][numeric_cols < 0] = np.NAN                         \n",
    "numeric_cols[\"DRILL_BIT_NAME\"] = csv[\"DRILL_BIT_NAME\"]\n",
    "data = numeric_cols.dropna()"
   ]
  },
  {
   "cell_type": "code",
   "execution_count": 5,
   "metadata": {},
   "outputs": [],
   "source": [
    "# Do your computation\n",
    "aggregated = (\n",
    "    data\n",
    "    .groupby(\"DRILL_BIT_NAME\")\n",
    "    .agg({'BIT_DEPTH': ['min','max','mean'], 'RATE_OF_PENETRATION' : ['mean'], 'HOOK_LOAD' : ['mean']})\n",
    "    .pipe(lambda x: x.set_axis(x.columns.map('_'.join), axis=1))\n",
    ")\n",
    "\n",
    "aggregated.reset_index(inplace=True)\n",
    "\n",
    "aggregated[\"total_depth\"] = aggregated[\"BIT_DEPTH_max\"] - aggregated[\"BIT_DEPTH_min\"]\n",
    "aggregated[\"total_hours\"] = aggregated[\"total_depth\"] / aggregated[\"RATE_OF_PENETRATION_mean\"]\n",
    "aggregated = aggregated.merge(bits_info)\n",
    "\n",
    "# Do your computation\n",
    "aggregated[\"cost\"] = aggregated['CPR'] + aggregated[\"total_depth\"] * aggregated['CPF'] + aggregated[\"total_hours\"] * aggregated['CPH']\n",
    "aggregated"
   ]
  },
  {
   "cell_type": "code",
   "execution_count": 21,
   "metadata": {},
   "outputs": [
    {
     "output_type": "execute_result",
     "data": {
      "text/plain": "472888.1609174895"
     },
     "metadata": {},
     "execution_count": 21
    }
   ],
   "source": [
    "aggregated['cost'].sum()"
   ]
  },
  {
   "cell_type": "code",
   "execution_count": null,
   "metadata": {},
   "outputs": [],
   "source": []
  }
 ]
}